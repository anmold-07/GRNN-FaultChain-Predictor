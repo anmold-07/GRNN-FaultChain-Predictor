{
 "cells": [
  {
   "cell_type": "code",
   "execution_count": null,
   "id": "5193d65d",
   "metadata": {},
   "outputs": [],
   "source": [
    "from IPython.display import HTML\n",
    "HTML(\"<style>.container { width:100% !important; }</style>\")"
   ]
  },
  {
   "cell_type": "code",
   "execution_count": null,
   "id": "8f37b6af",
   "metadata": {},
   "outputs": [],
   "source": [
    "import pickle\n",
    "import numpy as np\n",
    "np.set_printoptions(suppress=True)"
   ]
  },
  {
   "cell_type": "markdown",
   "id": "a02c983f",
   "metadata": {},
   "source": [
    "# 1. Unbounded Computational Budget"
   ]
  },
  {
   "cell_type": "markdown",
   "id": "90d56282",
   "metadata": {},
   "source": [
    "### Loading the already saved dataset"
   ]
  },
  {
   "cell_type": "code",
   "execution_count": null,
   "id": "5c8f88a8",
   "metadata": {},
   "outputs": [],
   "source": [
    "with open(\"39-bus Results/Final Results/1200_risky_data_list\", \"rb\") as fp: \n",
    "    risky_data_list, M_episodes_qlearning = pickle.load(fp)"
   ]
  },
  {
   "cell_type": "code",
   "execution_count": null,
   "id": "95c97eab",
   "metadata": {},
   "outputs": [],
   "source": [
    "checkRisky = np.array(risky_data_list)\n",
    "print(checkRisky.shape)\n",
    "print(checkRisky.shape[1], checkRisky.shape[2])"
   ]
  },
  {
   "cell_type": "markdown",
   "id": "94f49810",
   "metadata": {},
   "source": [
    "### Averaging the accumulated risk across the 25 MC iterations."
   ]
  },
  {
   "cell_type": "code",
   "execution_count": null,
   "id": "82bce6a6",
   "metadata": {},
   "outputs": [],
   "source": [
    "np.mean(checkRisky[0, :, :], axis=0)[-1]"
   ]
  },
  {
   "cell_type": "code",
   "execution_count": null,
   "id": "35a69b5c",
   "metadata": {},
   "outputs": [],
   "source": [
    "np.std(checkRisky[0, :, :], axis=0)"
   ]
  },
  {
   "cell_type": "code",
   "execution_count": null,
   "id": "89e1dfa4",
   "metadata": {},
   "outputs": [],
   "source": [
    "np.mean(checkRisky[1, :, :], axis=0)[-1]"
   ]
  },
  {
   "cell_type": "code",
   "execution_count": null,
   "id": "42a51c79",
   "metadata": {},
   "outputs": [],
   "source": [
    "np.mean(checkRisky[2, :, :], axis=0)"
   ]
  },
  {
   "cell_type": "markdown",
   "id": "1410175d",
   "metadata": {},
   "source": [
    "## Finding the Range for Cumulative Regret Accuracy Metric"
   ]
  },
  {
   "cell_type": "code",
   "execution_count": null,
   "id": "344923c9",
   "metadata": {},
   "outputs": [],
   "source": [
    "from FaultChainSolver import FaultChainSovlerClass\n",
    "\n",
    "selectCase = \"39\"   # \"14, \"30\", \"39\", \"118\"\n",
    "LOADING_FACTOR = 0.55\n",
    "dataSetString = \"loading055_39bus.h5\"\n",
    "M = 5  \n",
    "\n",
    "FCsovler = FaultChainSovlerClass(LOADING_FACTOR, selectCase) # instantiated object!\n",
    "dataSet = FCsovler.load_dataset(dataSetString)\n",
    "FCsovler.print_datatset_information(dataSet)\n",
    "riskyFaultChainDict = FCsovler.find_risky_fault_chains(dataSet, M)\n",
    "riskyFaultChainDict_all = FCsovler.find_risky_fault_chains_all(dataSet)"
   ]
  },
  {
   "cell_type": "code",
   "execution_count": null,
   "id": "6936ee0d",
   "metadata": {},
   "outputs": [],
   "source": [
    "print( len(riskyFaultChainDict), len(dataSet) )\n",
    "print( [len(riskyFaultChainDict) for riskyFaultChainDict in riskyFaultChainDict_all] )"
   ]
  },
  {
   "cell_type": "markdown",
   "id": "1ab265a9",
   "metadata": {},
   "source": [
    "### Finding the risk assocaited with the optimal S=1200 sequences."
   ]
  },
  {
   "cell_type": "code",
   "execution_count": null,
   "id": "adeceb31",
   "metadata": {},
   "outputs": [],
   "source": [
    "optimalSequenceRisk = np.sort(dataSet[:, 3])[::-1] # sorting the entire dataset in decreasing order\n",
    "print( optimalSequenceRisk[:1200] )                # finding the 1200 most risky FC risks"
   ]
  },
  {
   "cell_type": "code",
   "execution_count": null,
   "id": "d9995edd",
   "metadata": {},
   "outputs": [],
   "source": [
    "optimalSequenceRisk1200 = np.cumsum( optimalSequenceRisk[:1200] )\n",
    "optimalSequenceRisk1200[-1]    # the sum of the entire sequences of risks"
   ]
  },
  {
   "cell_type": "code",
   "execution_count": null,
   "id": "3cb4d783",
   "metadata": {},
   "outputs": [],
   "source": [
    "optimalSequenceRisk1200[-1] - np.mean(checkRisky[0, :, :], axis=0)"
   ]
  },
  {
   "cell_type": "code",
   "execution_count": null,
   "id": "dedaea5c",
   "metadata": {},
   "outputs": [],
   "source": [
    "import matplotlib.pyplot as plt\n",
    "\n",
    "x = optimalSequenceRisk1200[-1] - np.mean(checkRisky[0, :, :], axis=0)\n",
    "y = optimalSequenceRisk1200[-1] - np.mean(checkRisky[1, :, :], axis=0)\n",
    "z = optimalSequenceRisk1200[-1] - np.mean(checkRisky[2, :, :], axis=0)\n",
    "a = optimalSequenceRisk1200[-1] - np.mean(checkRisky[3, :, :], axis=0)\n",
    "b = optimalSequenceRisk1200[-1] - np.mean(checkRisky[4, :, :], axis=0)\n",
    "plt.plot(x/1000)\n",
    "plt.plot(y/1000)\n",
    "plt.plot(z/1000)\n",
    "plt.plot(a/1000)\n",
    "plt.plot(b/1000)\n",
    "plt.show()"
   ]
  },
  {
   "cell_type": "code",
   "execution_count": null,
   "id": "e5a3d441",
   "metadata": {},
   "outputs": [],
   "source": [
    "dataRegret = optimalSequenceRisk1200[-1]*np.ones((25, 1200)) - checkRisky\n",
    "print(dataRegret.shape)"
   ]
  },
  {
   "cell_type": "code",
   "execution_count": null,
   "id": "099f23a5",
   "metadata": {},
   "outputs": [],
   "source": [
    "from Evaluation import EvaluationClassIterationMCPlot\n",
    "finalPlot = EvaluationClassIterationMCPlot([], [], [], [], [], [], [], [], [], [])\n",
    "with open(\"39-bus Results/Final Results/1200_risky_data_list\", \"rb\") as fp:\n",
    "    risky_data_list, M_episodes_qlearning = pickle.load(fp)\n",
    "#finalPlot.plot_regret(risky_data_list, M_episodes_qlearning)"
   ]
  },
  {
   "cell_type": "markdown",
   "id": "131fc773",
   "metadata": {},
   "source": [
    "## Finding the Range for Precision Accuracy Metric"
   ]
  },
  {
   "cell_type": "code",
   "execution_count": null,
   "id": "ebce8617",
   "metadata": {},
   "outputs": [],
   "source": [
    "with open(\"39-bus Results/Final Results/1200_num_data_list\", \"rb\") as fp:\n",
    "    num_data_list, M_episodes_qlearning = pickle.load(fp)\n",
    "    \n",
    "checkNumdata = np.array(num_data_list)\n",
    "checkNumdata.shape"
   ]
  },
  {
   "cell_type": "code",
   "execution_count": null,
   "id": "e41e0ea2",
   "metadata": {},
   "outputs": [],
   "source": [
    "lengthArray = np.array( range(1, 1200+1) )\n",
    "lengthArray[:10]"
   ]
  },
  {
   "cell_type": "code",
   "execution_count": null,
   "id": "53ae3fc0",
   "metadata": {},
   "outputs": [],
   "source": [
    "precision = checkNumdata[0, :, :]/lengthArray\n",
    "np.mean(precision, axis=0)"
   ]
  },
  {
   "cell_type": "code",
   "execution_count": null,
   "id": "4ea952a6",
   "metadata": {},
   "outputs": [],
   "source": [
    "precision = checkNumdata[1, :, :]/lengthArray\n",
    "np.mean(precision, axis=0)"
   ]
  },
  {
   "cell_type": "code",
   "execution_count": null,
   "id": "e8f10049",
   "metadata": {},
   "outputs": [],
   "source": [
    "precision = checkNumdata[2, :, :]/lengthArray\n",
    "np.mean(precision, axis=0)"
   ]
  },
  {
   "cell_type": "code",
   "execution_count": null,
   "id": "7958d186",
   "metadata": {},
   "outputs": [],
   "source": [
    "precision = checkNumdata[3, :, :]/lengthArray\n",
    "np.mean(precision, axis=0)"
   ]
  },
  {
   "cell_type": "code",
   "execution_count": null,
   "id": "98090bdf",
   "metadata": {},
   "outputs": [],
   "source": [
    "precision = checkNumdata[4, :, :]/lengthArray\n",
    "np.mean(precision, axis=0)"
   ]
  },
  {
   "cell_type": "code",
   "execution_count": null,
   "id": "3399d0cf",
   "metadata": {},
   "outputs": [],
   "source": [
    "import matplotlib.pyplot as plt\n",
    "\n",
    "x = np.mean(checkNumdata[0, :, :]/lengthArray, axis=0)\n",
    "y = np.mean(checkNumdata[1, :, :]/lengthArray, axis=0)\n",
    "z = np.mean(checkNumdata[2, :, :]/lengthArray, axis=0)\n",
    "a = np.mean(checkNumdata[3, :, :]/lengthArray, axis=0)\n",
    "b = np.mean(checkNumdata[4, :, :]/lengthArray, axis=0)\n",
    "pivot = 20\n",
    "plt.plot(x[pivot:])\n",
    "plt.plot(y[pivot:])\n",
    "plt.plot(z[pivot:])\n",
    "plt.plot(a[pivot:])\n",
    "plt.plot(b[pivot:])\n",
    "plt.show()"
   ]
  },
  {
   "cell_type": "code",
   "execution_count": null,
   "id": "9d03ad2c",
   "metadata": {},
   "outputs": [],
   "source": [
    "from Evaluation import EvaluationClassIterationMCPlot\n",
    "finalPlot = EvaluationClassIterationMCPlot([], [], [], [], [], [], [], [], [], [])\n",
    "lengthArrayMatrix = np.vstack([lengthArray]*checkNumdata.shape[1])\n",
    "dataPrecision = (checkNumdata/lengthArrayMatrix)\n",
    "pivot = 6\n",
    "#finalPlot.plot_precision(dataPrecision[:, :, pivot:], 1200-pivot)"
   ]
  },
  {
   "cell_type": "code",
   "execution_count": null,
   "id": "d5045499",
   "metadata": {},
   "outputs": [],
   "source": [
    "finalPlot.display_statistics_for_list(dataRegret, dataPrecision)"
   ]
  },
  {
   "cell_type": "markdown",
   "id": "ea7a9678",
   "metadata": {},
   "source": [
    "# 2. Bounded Computational Budget"
   ]
  },
  {
   "cell_type": "code",
   "execution_count": null,
   "id": "603b752d",
   "metadata": {},
   "outputs": [],
   "source": [
    "with open(\"39-bus Results/Final Results/time_risky_data_list\", \"rb\") as fp:\n",
    "    risky_data_list, M_episodes_qlearning = pickle.load(fp)\n",
    "    \n",
    "print( np.array(risky_data_list).shape, np.array(M_episodes_qlearning).shape)"
   ]
  },
  {
   "cell_type": "code",
   "execution_count": null,
   "id": "4392fef0",
   "metadata": {},
   "outputs": [],
   "source": [
    "for approach in range(5):\n",
    "\n",
    "    algorithm = risky_data_list[approach]\n",
    "    MC_iterations = np.array(algorithm).shape[0]\n",
    "\n",
    "    numberofFCsList, totalRiskList, regretList = [], [], []\n",
    "    numRiskyFCs, precisionList = [], []\n",
    "    \n",
    "    for iteration in range(MC_iterations):\n",
    "        temp = np.array( algorithm[iteration] )     # FC Risk, time taken\n",
    "        numberofFCs, _ = temp.shape              \n",
    "        #print(\" Number of FCs: \", numberofFCs, \" Total Risk: \", temp[:, 0][-1], \" Optimal Sequence Risk: \", sum(optimalSequenceRisk[:numberofFCs]) )\n",
    "        \n",
    "        numberofFCsList.append(numberofFCs)\n",
    "        cumu = temp[:, 0]\n",
    "        normalArray = cumu.copy()\n",
    "        normalArray[1:] = np.diff(cumu)\n",
    "        #print( sum( normalArray > 34.3982*5 ) )\n",
    "            \n",
    "        numRiskyFCs.append( sum( normalArray >= 34*5 ) )\n",
    "        precisionList.append( sum( normalArray >= 34*5 )/numberofFCs )\n",
    "        \n",
    "        totalRiskList.append( temp[:, 0][-1] )\n",
    "        regretList.append( sum(optimalSequenceRisk[:numberofFCs]) - temp[:, 0][-1] )\n",
    "\n",
    "    print(\"Avg No. of FCs found:         \", np.average( np.array(numberofFCsList) ))\n",
    "    print(\"Range Total Risk found:       \", np.average( np.array(totalRiskList) ), \"    +- \" , np.std( np.array(totalRiskList) ), \" also in percentage \", 100*np.std( np.array(totalRiskList) )/np.average( np.array(totalRiskList) ))\n",
    "    print(\"Range Regret found:           \", np.average( np.array(regretList) ) ,   \"    +- \" , np.std( np.array(regretList) ), \" also in percentage \", 100*np.std( np.array(regretList) )/np.average( np.array(regretList) ))\n",
    "    print(\"Range No. of Risky FCs found: \", np.average( np.array(numRiskyFCs) ),   \"    +- \" , np.std( np.array(numRiskyFCs) ), \" also in percentage \", 100*np.std( np.array(numRiskyFCs) )/np.average( np.array(numRiskyFCs) ))\n",
    "    print(\"Range Precision found:        \", np.average( np.array(precisionList) ), \"    +- \" , np.std( np.array(precisionList) ), \" also in percentage \", 100*np.std( np.array(precisionList) )/np.average( np.array(precisionList) ) )   \n",
    "# for     print(\" \")"
   ]
  },
  {
   "cell_type": "code",
   "execution_count": null,
   "id": "d51a7283",
   "metadata": {},
   "outputs": [],
   "source": [
    "# for some reason, \"num_data_list\" stored here is not very helpful. I relied on \"risky_data_list\" in order to determine the number of risky FCs and precision as well.\n",
    "\n",
    "with open(\"39-bus Results/Final Results/time_num_data_list\", \"rb\") as fp:\n",
    "    num_data_list, M_episodes_qlearning = pickle.load(fp)\n",
    "    \n",
    "print( np.array(num_data_list).shape, np.array(M_episodes_qlearning).shape)"
   ]
  },
  {
   "cell_type": "code",
   "execution_count": null,
   "id": "d69fd46e",
   "metadata": {},
   "outputs": [],
   "source": [
    "algorithm = num_data_list[4]\n",
    "algorithm = np.array(algorithm)\n",
    "algorithm = np.squeeze(algorithm)\n",
    "algorithm.shape"
   ]
  },
  {
   "cell_type": "code",
   "execution_count": null,
   "id": "8ff06606",
   "metadata": {},
   "outputs": [],
   "source": []
  },
  {
   "cell_type": "markdown",
   "id": "c7ac01c9",
   "metadata": {},
   "source": []
  }
 ],
 "metadata": {
  "kernelspec": {
   "display_name": "Python 3",
   "language": "python",
   "name": "python3"
  },
  "language_info": {
   "codemirror_mode": {
    "name": "ipython",
    "version": 3
   },
   "file_extension": ".py",
   "mimetype": "text/x-python",
   "name": "python",
   "nbconvert_exporter": "python",
   "pygments_lexer": "ipython3",
   "version": "3.8.11"
  }
 },
 "nbformat": 4,
 "nbformat_minor": 5
}
