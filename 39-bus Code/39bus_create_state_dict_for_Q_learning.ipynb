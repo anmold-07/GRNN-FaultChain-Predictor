{
 "cells": [
  {
   "cell_type": "code",
   "execution_count": null,
   "id": "c5c2cd78",
   "metadata": {},
   "outputs": [],
   "source": [
    "import pickle\n",
    "import itertools "
   ]
  },
  {
   "cell_type": "code",
   "execution_count": null,
   "id": "0568ee04",
   "metadata": {},
   "outputs": [],
   "source": [
    "stateDict = {}\n",
    "NUM_ACTIONS = 46"
   ]
  },
  {
   "cell_type": "code",
   "execution_count": null,
   "id": "492ee45c",
   "metadata": {},
   "outputs": [],
   "source": [
    "counter = 0\n",
    "actionSpace = []\n",
    "stateDict[tuple(actionSpace)] = counter\n",
    "counter += 1\n",
    "for iter0 in range(NUM_ACTIONS):\n",
    "    actionSpace.append(iter0)\n",
    "    stateDict[tuple(actionSpace)] = counter\n",
    "    actionSpace.pop()\n",
    "    counter += 1\n",
    "    \n",
    "print(stateDict)"
   ]
  },
  {
   "cell_type": "code",
   "execution_count": null,
   "id": "7a681d0b",
   "metadata": {},
   "outputs": [],
   "source": [
    "for iter1 in range(NUM_ACTIONS):\n",
    "    for iter2 in range(iter1+1, NUM_ACTIONS):\n",
    "        currPermutation = list(itertools.permutations((iter1, iter2)))\n",
    "        for eachTuple in currPermutation: \n",
    "            stateDict[eachTuple] = counter\n",
    "            counter += 1      \n",
    "    \n",
    "print(stateDict)"
   ]
  },
  {
   "cell_type": "code",
   "execution_count": null,
   "id": "27f08987",
   "metadata": {},
   "outputs": [],
   "source": [
    "for iter1 in range(NUM_ACTIONS):\n",
    "    for iter2 in range(iter1+1, NUM_ACTIONS):\n",
    "        for iter3 in range(iter2+1, NUM_ACTIONS):\n",
    "            currPermutation = list(itertools.permutations((iter1, iter2, iter3)))\n",
    "            for eachTuple in currPermutation: \n",
    "                stateDict[eachTuple] = counter\n",
    "                counter += 1\n",
    "                \n",
    "print(stateDict)"
   ]
  },
  {
   "cell_type": "code",
   "execution_count": null,
   "id": "2ddbdacf",
   "metadata": {},
   "outputs": [],
   "source": [
    "with open(\"state_dict_for_IEEE_39.txt\", \"wb\") as myFile:\n",
    "    pickle.dump(stateDict, myFile)"
   ]
  },
  {
   "cell_type": "code",
   "execution_count": null,
   "id": "049f1413",
   "metadata": {},
   "outputs": [],
   "source": [
    "with open(\"state_dict_for_IEEE_39.txt\", \"rb\") as myFile:\n",
    "    myNewPulledInDictionary = pickle.load(myFile)\n",
    "\n",
    "print(myNewPulledInDictionary)"
   ]
  }
 ],
 "metadata": {
  "kernelspec": {
   "display_name": "Python 3",
   "language": "python",
   "name": "python3"
  },
  "language_info": {
   "codemirror_mode": {
    "name": "ipython",
    "version": 3
   },
   "file_extension": ".py",
   "mimetype": "text/x-python",
   "name": "python",
   "nbconvert_exporter": "python",
   "pygments_lexer": "ipython3",
   "version": "3.8.11"
  }
 },
 "nbformat": 4,
 "nbformat_minor": 5
}
